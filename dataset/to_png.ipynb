{
 "cells": [
  {
   "cell_type": "code",
   "execution_count": null,
   "metadata": {},
   "outputs": [],
   "source": [
    "# マスクアノテーションを作るためにpng化する\n",
    "\n",
    "import os\n",
    "import glob\n",
    "import json\n",
    "\n",
    "from PIL import Image\n",
    "import cv2\n",
    "import numpy as np\n",
    "\n",
    "def visualize(img_path, anno_path):\n",
    "    \n",
    "    with open(anno_path, \"r\") as fp:\n",
    "        annotation = json.load(fp)\n",
    "\n",
    "    tif = Image.open(img_path)\n",
    "    data = np.asarray(tif)\n",
    "    data = np.log10(data + 1.0e-1)\n",
    "    max_ = np.percentile(data, 99)\n",
    "    data = data.clip(0, max_)\n",
    "    data = data / max_ * 255.0\n",
    "    \n",
    "    # 海岸線\n",
    "    data = cv2.polylines(data, [np.asarray(annotation['coastline_points'])], 0,  cv2.LINE_4)\n",
    "    \n",
    "    return data\n",
    "\n",
    "for idx in range(25):\n",
    "    print(idx)\n",
    "    \n",
    "    img_path = os.path.join(f'train_images/train_{idx:02d}.tif')\n",
    "    anno_path = os.path.join(f'train_annotations/train_{idx:02d}.json')\n",
    "    img = visualize(img_path, anno_path)\n",
    "    cv2.imwrite('train_masks/'+ os.path.basename(img_path).split('.')[0]+'.png', img)"
   ]
  }
 ],
 "metadata": {
  "kernelspec": {
   "display_name": "Python 3",
   "language": "python",
   "name": "python3"
  },
  "language_info": {
   "codemirror_mode": {
    "name": "ipython",
    "version": 3
   },
   "file_extension": ".py",
   "mimetype": "text/x-python",
   "name": "python",
   "nbconvert_exporter": "python",
   "pygments_lexer": "ipython3",
   "version": "3.7.9"
  }
 },
 "nbformat": 4,
 "nbformat_minor": 4
}
